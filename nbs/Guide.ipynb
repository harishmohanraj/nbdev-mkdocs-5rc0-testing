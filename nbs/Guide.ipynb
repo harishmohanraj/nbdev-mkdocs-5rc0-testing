{
 "cells": [
  {
   "cell_type": "markdown",
   "id": "3b468d4d",
   "metadata": {},
   "source": [
    "# This is a guide"
   ]
  },
  {
   "cell_type": "markdown",
   "id": "9d059866",
   "metadata": {},
   "source": [
    "This is a link to the symbol foo: `foo`"
   ]
  },
  {
   "cell_type": "code",
   "execution_count": null,
   "id": "c433e2ba",
   "metadata": {},
   "outputs": [],
   "source": []
  }
 ],
 "metadata": {
  "kernelspec": {
   "display_name": "python3",
   "language": "python",
   "name": "python3"
  }
 },
 "nbformat": 4,
 "nbformat_minor": 5
}
